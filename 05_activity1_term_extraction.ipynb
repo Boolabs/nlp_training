{
 "cells": [
  {
   "cell_type": "markdown",
   "metadata": {},
   "source": [
    "# Activity 1: Term extraction\n",
    "\n",
    "Read the file corpus.txt and extract the term candidates for this corpus. For terms, we could obtain words that are most representativve in the domain of the text.\n",
    "\n",
    "A very basic heuristic for term extraction consists in:\n",
    "\n",
    "* Read and tokenize the text\n",
    "* Extract only nouns and compute their frequency in the text\n",
    "* Extract the best candidates"
   ]
  },
  {
   "cell_type": "code",
   "execution_count": null,
   "metadata": {
    "collapsed": true
   },
   "outputs": [],
   "source": []
  }
 ],
 "metadata": {
  "kernelspec": {
   "display_name": "Python 2",
   "language": "python",
   "name": "python2"
  },
  "language_info": {
   "codemirror_mode": {
    "name": "ipython",
    "version": 2
   },
   "file_extension": ".py",
   "mimetype": "text/x-python",
   "name": "python",
   "nbconvert_exporter": "python",
   "pygments_lexer": "ipython2",
   "version": "2.7.6"
  }
 },
 "nbformat": 4,
 "nbformat_minor": 0
}
