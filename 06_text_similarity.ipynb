{
 "cells": [
  {
   "cell_type": "markdown",
   "metadata": {},
   "source": [
    "# Text similarity\n",
    "\n",
    "How to compute the similarity between two strings?"
   ]
  },
  {
   "cell_type": "code",
   "execution_count": 1,
   "metadata": {
    "collapsed": true
   },
   "outputs": [],
   "source": [
    "from __future__ import unicode_literals\n",
    "from __future__ import division"
   ]
  },
  {
   "cell_type": "code",
   "execution_count": 2,
   "metadata": {
    "collapsed": true
   },
   "outputs": [],
   "source": [
    "a = 'Geladeira Brastemp CFR45 20L frostfree'\n",
    "b = 'Geladeira Brastemp CFR45 20L com desgelo automático'"
   ]
  },
  {
   "cell_type": "code",
   "execution_count": 3,
   "metadata": {
    "collapsed": false
   },
   "outputs": [
    {
     "data": {
      "text/plain": [
       "{u'20L', u'Brastemp', u'CFR45', u'Geladeira'}"
      ]
     },
     "execution_count": 3,
     "metadata": {},
     "output_type": "execute_result"
    }
   ],
   "source": [
    "# Value for similar tokens:\n",
    "tokensA = a.split()\n",
    "tokensB = b.split()\n",
    "set(tokensA).intersection(tokensB)"
   ]
  },
  {
   "cell_type": "code",
   "execution_count": 4,
   "metadata": {
    "collapsed": false
   },
   "outputs": [
    {
     "name": "stdout",
     "output_type": "stream",
     "text": [
      "4 similars from 8 tokens: 50.00% of similarity\n"
     ]
    }
   ],
   "source": [
    "similar = len(set(tokensA).intersection(tokensB))\n",
    "total = len(set(tokensA).union(tokensB))\n",
    "print '{} similars from {} tokens: {:0.2f}% of similarity'.format(similar, total, similar/total*100)"
   ]
  },
  {
   "cell_type": "code",
   "execution_count": 5,
   "metadata": {
    "collapsed": false
   },
   "outputs": [],
   "source": [
    "# several other metrics. See jellyfish, fuzzywuzzy, metaphone, etc\n",
    "import jellyfish"
   ]
  },
  {
   "cell_type": "code",
   "execution_count": 6,
   "metadata": {
    "collapsed": false
   },
   "outputs": [
    {
     "data": {
      "text/plain": [
       "0.8439972480220158"
      ]
     },
     "execution_count": 6,
     "metadata": {},
     "output_type": "execute_result"
    }
   ],
   "source": [
    "# The Jaro–Winkler distance metric is designed and best suited for short strings such as person names. \n",
    "jellyfish.jaro_distance(a,b)"
   ]
  },
  {
   "cell_type": "markdown",
   "metadata": {},
   "source": [
    "## Other possibilities:\n",
    "\n",
    "* extract named features for measuring the importance of each token\n",
    "* use some basic text preprocessing (lowecase, stemm, etc)\n",
    "* remove stopword\n",
    "* weight the words using a measure of importante (TF/IDF, for example) "
   ]
  },
  {
   "cell_type": "markdown",
   "metadata": {},
   "source": [
    "## Using word2vec to computer vector similairties\n",
    "\n",
    "It is possibel to use [word2vec]((http://nbviewer.ipython.org/github/danielfrg/word2vec/blob/master/examples/word2vec.ipynb) or [gensim](https://radimrehurek.com/gensim/models/word2vec.html)"
   ]
  },
  {
   "cell_type": "code",
   "execution_count": 13,
   "metadata": {
    "collapsed": true
   },
   "outputs": [],
   "source": [
    "# read the corpus\n",
    "import codecs\n",
    "\n",
    "# this could be done in a iterate way for performance in huge corpus\n",
    "with codecs.open('corpus.txt', encoding='utf8') as fp:\n",
    "    corpus = fp.read()\n",
    "\n",
    "# cut in the corpus for speed up the example\n",
    "corpus = corpus[:10000000]"
   ]
  },
  {
   "cell_type": "code",
   "execution_count": 14,
   "metadata": {
    "collapsed": false
   },
   "outputs": [],
   "source": [
    "# sent and word tokenize with ntlk\n",
    "from nltk import sent_tokenize, word_tokenize\n",
    "sentences = [[w.lower() for w in word_tokenize(sentence, language='portuguese')] for sentence in sent_tokenize(corpus, language='portuguese')]"
   ]
  },
  {
   "cell_type": "code",
   "execution_count": 15,
   "metadata": {
    "collapsed": false
   },
   "outputs": [],
   "source": [
    "from gensim.models import Word2Vec\n",
    "model = Word2Vec(sentences, size=100, window=5, min_count=5, workers=8)\n",
    "model.init_sims(replace=True)"
   ]
  },
  {
   "cell_type": "code",
   "execution_count": 16,
   "metadata": {
    "collapsed": false
   },
   "outputs": [
    {
     "data": {
      "text/plain": [
       "[(u'ative', 0.5917613506317139),\n",
       " (u'frost', 0.585434079170227),\n",
       " (u'assistindo', 0.5765464901924133),\n",
       " (u'lavadora', 0.560122013092041),\n",
       " (u'cinematogr\\xe1fica', 0.5491166114807129),\n",
       " (u'dama', 0.5454461574554443),\n",
       " (u'curtindo', 0.5446858406066895),\n",
       " (u'melhorias', 0.5411743521690369),\n",
       " (u'organizados', 0.5394273400306702),\n",
       " (u'envolver', 0.5388178825378418)]"
      ]
     },
     "execution_count": 16,
     "metadata": {},
     "output_type": "execute_result"
    }
   ],
   "source": [
    "model.most_similar('geladeira')"
   ]
  },
  {
   "cell_type": "code",
   "execution_count": 26,
   "metadata": {
    "collapsed": false
   },
   "outputs": [],
   "source": [
    "tokensA = [t.lower() for t in tokensA]\n",
    "vectorsA = sum([model[token] for token in tokensA if token in model.vocab])\n",
    "\n",
    "tokensB = [t.lower() for t in tokensB]\n",
    "vectorsB = sum([model[token] for token in tokensB if token in model.vocab])"
   ]
  },
  {
   "cell_type": "code",
   "execution_count": 28,
   "metadata": {
    "collapsed": false
   },
   "outputs": [
    {
     "name": "stdout",
     "output_type": "stream",
     "text": [
      "Similarity: 0.804425913887\n"
     ]
    }
   ],
   "source": [
    "from nltk.cluster.util import cosine_distance\n",
    "print 'Similarity: {}'.format(abs(1 - cosine_distance(vectorsA, vectorsB)))"
   ]
  }
 ],
 "metadata": {
  "kernelspec": {
   "display_name": "Python 2",
   "language": "python",
   "name": "python2"
  },
  "language_info": {
   "codemirror_mode": {
    "name": "ipython",
    "version": 2
   },
   "file_extension": ".py",
   "mimetype": "text/x-python",
   "name": "python",
   "nbconvert_exporter": "python",
   "pygments_lexer": "ipython2",
   "version": "2.7.6"
  }
 },
 "nbformat": 4,
 "nbformat_minor": 0
}
